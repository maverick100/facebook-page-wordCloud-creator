{
 "metadata": {
  "name": "",
  "signature": "sha256:6eb0e822cabfa1fefaf1badc2fc02ab7353865adc1fbe07cf2989471ebd730ae"
 },
 "nbformat": 3,
 "nbformat_minor": 0,
 "worksheets": [
  {
   "cells": [
    {
     "cell_type": "code",
     "collapsed": false,
     "input": [
      "import collections\n",
      "from wordcloud import WordCloud,STOPWORDS\n",
      "import os\n",
      "import matplotlib.pyplot as plt\n",
      "import facebook\n",
      "import requests\n",
      "import json\n",
      "from nltk.corpus import stopwords\n",
      "from PIL import Image\n",
      "import re\n",
      "#os.chdir(\"python27\")\n",
      "num=20\n",
      "print(\"---MENU---\\n 1.Facebook page wordcloud \\n 2. File wordcloud\")\n",
      "choice=input(\"Enter your choice\")\n",
      "\n",
      "if(choice==1):\n",
      "    page=raw_input(\"Enter the page name:\")\n",
      "    #extracting data....\n",
      "    with open(\"token.txt\" ,\"r\") as f:\n",
      "        token=f.read()\n",
      "    \n",
      "   \n",
      "    num=int(input(\"enter number of posts to be scraped:\"))\n",
      "    try: \n",
      "         graph=facebook.GraphAPI(token)\n",
      "         all_fields=[\"shares\",\"message\",]\n",
      "         all_fields=\",\".join(all_fields)\n",
      "         posts=graph.get_connections(page,\"posts\",fields=all_fields)\n",
      "        \n",
      "    except Exception as e: \n",
      "            print(e)\n",
      "            exit(0)\n",
      "    down=0\n",
      "    while (True):\n",
      "        if(down>num):\n",
      "                break\n",
      "        else:\n",
      "                try:\n",
      "                    fname=\"wordcloud_{}.txt\".format(page)\n",
      "                    with open(fname,\"a\") as f:\n",
      "                      for post in posts[\"data\"]:\n",
      "                            #print(post)\n",
      "                            f.write(json.dumps(post[\"message\"] + \"\\n\"))\n",
      "                    \n",
      "                            down+=1\n",
      "                        \n",
      "                      posts=requests.get(posts[\"paging\"][\"next\"]).json()\n",
      "                except KeyError:\n",
      "                        print(\"no more posts availabe\")\n",
      "                        break\n",
      "\n",
      "                    #creating wordcloud\n",
      "elif(choice==2):\n",
      "       page=raw_input(\"Enter the file name:\")\n",
      "       os.rename(\"{}.txt\".format(page),\"wordcloud_{}.txt\".format(page))\n",
      "    \n",
      "word_post=[]\n",
      "c = collections.Counter()\n",
      "with open(\"wordcloud_{}.txt\".format(page), 'rt') as f:\n",
      "    for line in f:        \n",
      "        c.update(line.split(\" \"))\n",
      "        message=re.sub(r'(\\s)?\\ud.*','',line)\n",
      "        word_post.append(message)\n",
      "text=\" \".join(word_post)        \n",
      "        \n",
      "        \n",
      "stopwordslist=[]\n",
      "print 'Most common:'\n",
      "for letter, count in c.most_common(num):\n",
      "    if(len(letter)<5):\n",
      "       stopwordslist.append(letter)\n",
      "\n",
      "text=\" \".join(word_post)\n",
      "print(text)\n",
      "\n",
      "\n",
      "stopwordslist.append(\"\\ud83d\")\n",
      "stopwordslist.append(\"\\ude0e\")\n",
      "stopwordslist.extend(word.encode(\"utf-8\") for word in stopwords.words(\"english\"))\n",
      "wordcloud=WordCloud(stopwords=stopwordslist,background_color=\"black\",width=1000,height=1200).generate(text)\n",
      "plt.imshow(wordcloud)\n",
      "plt.show()\n",
      "plt.axis(\"off\")\n",
      "fname=\"wordcloud_{}.png\".format(page)\n",
      "plt.savefig(fname)\n",
      "image=Image.open(fname)\n",
      "image.savefig(\"home//shahul//pictures\",dpi=(1200,1200))\n",
      "image.show()\n",
      "os.unlink(\"wordcloud_{}.txt\".format(page))\n",
      "\n"
     ],
     "language": "python",
     "metadata": {},
     "outputs": [
      {
       "output_type": "stream",
       "stream": "stdout",
       "text": [
        "---MENU---\n",
        " 1.facebook page wordcloud \n",
        " 2. File wordcloud\n"
       ]
      },
      {
       "name": "stdout",
       "output_type": "stream",
       "stream": "stdout",
       "text": [
        "enter your choice1\n"
       ]
      },
      {
       "name": "stdout",
       "output_type": "stream",
       "stream": "stdout",
       "text": [
        "Enter the page name:CircleofCricket.India\n"
       ]
      },
      {
       "name": "stdout",
       "output_type": "stream",
       "stream": "stdout",
       "text": [
        "enter number of posts to be scraped:150\n"
       ]
      }
     ]
    },
    {
     "cell_type": "code",
     "collapsed": false,
     "input": [],
     "language": "python",
     "metadata": {},
     "outputs": [],
     "prompt_number": 0
    },
    {
     "cell_type": "code",
     "collapsed": false,
     "input": [],
     "language": "python",
     "metadata": {},
     "outputs": [],
     "prompt_number": 9
    },
    {
     "cell_type": "code",
     "collapsed": false,
     "input": [],
     "language": "python",
     "metadata": {},
     "outputs": []
    }
   ],
   "metadata": {}
  }
 ]
}
